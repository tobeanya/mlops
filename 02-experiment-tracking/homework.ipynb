{
 "cells": [
  {
   "cell_type": "code",
   "execution_count": 1,
   "id": "5b771c3f",
   "metadata": {},
   "outputs": [],
   "source": [
    "import pandas as pd\n",
    "import numpy as np\n",
    "\n",
    "import seaborn as sns\n",
    "import matplotlib.pyplot as plt"
   ]
  },
  {
   "cell_type": "code",
   "execution_count": 2,
   "id": "2bc5daee",
   "metadata": {},
   "outputs": [],
   "source": [
    "from sklearn.feature_extraction import FeatureHasher\n",
    "from sklearn.linear_model import LogisticRegression\n",
    "from sklearn.linear_model import LinearRegression\n",
    "from sklearn.linear_model import Lasso\n",
    "from sklearn.linear_model import ElasticNet\n",
    "from sklearn.linear_model import Ridge\n",
    "\n",
    "from sklearn.metrics import mean_squared_error"
   ]
  },
  {
   "cell_type": "code",
   "execution_count": 3,
   "id": "48650ac6",
   "metadata": {},
   "outputs": [],
   "source": [
    "import warnings\n",
    "warnings.filterwarnings('ignore')"
   ]
  },
  {
   "cell_type": "code",
   "execution_count": 4,
   "id": "f6f1bbd6",
   "metadata": {},
   "outputs": [
    {
     "data": {
      "text/plain": [
       "<Experiment: artifact_location='/workspaces/mlops/02-experiment-tracking/mlruns/1', creation_time=1717557366335, experiment_id='1', last_update_time=1717557366335, lifecycle_stage='active', name='nyc-taxi-expirement', tags={}>"
      ]
     },
     "execution_count": 4,
     "metadata": {},
     "output_type": "execute_result"
    }
   ],
   "source": [
    "import mlflow\n",
    "# mlflow ui --backend-store-uri sqlite:///mlflow.db\n",
    "mlflow.set_tracking_uri(\"sqlite:///mlflow.db\")\n",
    "mlflow.set_experiment(\"nyc-taxi-expirement\")"
   ]
  },
  {
   "cell_type": "code",
   "execution_count": 5,
   "id": "5a0cea12",
   "metadata": {},
   "outputs": [],
   "source": [
    "np.set_printoptions(suppress=True)\n",
    "pd.set_option('display.float_format', lambda x: '%.3f' % x)"
   ]
  },
  {
   "cell_type": "code",
   "execution_count": 6,
   "id": "8638df5b",
   "metadata": {},
   "outputs": [],
   "source": [
    "df = pd.read_parquet('https://d37ci6vzurychx.cloudfront.net/trip-data/yellow_tripdata_2023-01.parquet')"
   ]
  },
  {
   "cell_type": "code",
   "execution_count": 7,
   "id": "cb712a38",
   "metadata": {},
   "outputs": [
    {
     "data": {
      "text/html": [
       "<div>\n",
       "<style scoped>\n",
       "    .dataframe tbody tr th:only-of-type {\n",
       "        vertical-align: middle;\n",
       "    }\n",
       "\n",
       "    .dataframe tbody tr th {\n",
       "        vertical-align: top;\n",
       "    }\n",
       "\n",
       "    .dataframe thead th {\n",
       "        text-align: right;\n",
       "    }\n",
       "</style>\n",
       "<table border=\"1\" class=\"dataframe\">\n",
       "  <thead>\n",
       "    <tr style=\"text-align: right;\">\n",
       "      <th></th>\n",
       "      <th>VendorID</th>\n",
       "      <th>tpep_pickup_datetime</th>\n",
       "      <th>tpep_dropoff_datetime</th>\n",
       "      <th>passenger_count</th>\n",
       "      <th>trip_distance</th>\n",
       "      <th>RatecodeID</th>\n",
       "      <th>store_and_fwd_flag</th>\n",
       "      <th>PULocationID</th>\n",
       "      <th>DOLocationID</th>\n",
       "      <th>payment_type</th>\n",
       "      <th>fare_amount</th>\n",
       "      <th>extra</th>\n",
       "      <th>mta_tax</th>\n",
       "      <th>tip_amount</th>\n",
       "      <th>tolls_amount</th>\n",
       "      <th>improvement_surcharge</th>\n",
       "      <th>total_amount</th>\n",
       "      <th>congestion_surcharge</th>\n",
       "      <th>airport_fee</th>\n",
       "    </tr>\n",
       "  </thead>\n",
       "  <tbody>\n",
       "    <tr>\n",
       "      <th>0</th>\n",
       "      <td>2</td>\n",
       "      <td>2023-01-01 00:32:10</td>\n",
       "      <td>2023-01-01 00:40:36</td>\n",
       "      <td>1.000</td>\n",
       "      <td>0.970</td>\n",
       "      <td>1.000</td>\n",
       "      <td>N</td>\n",
       "      <td>161</td>\n",
       "      <td>141</td>\n",
       "      <td>2</td>\n",
       "      <td>9.300</td>\n",
       "      <td>1.000</td>\n",
       "      <td>0.500</td>\n",
       "      <td>0.000</td>\n",
       "      <td>0.000</td>\n",
       "      <td>1.000</td>\n",
       "      <td>14.300</td>\n",
       "      <td>2.500</td>\n",
       "      <td>0.000</td>\n",
       "    </tr>\n",
       "    <tr>\n",
       "      <th>1</th>\n",
       "      <td>2</td>\n",
       "      <td>2023-01-01 00:55:08</td>\n",
       "      <td>2023-01-01 01:01:27</td>\n",
       "      <td>1.000</td>\n",
       "      <td>1.100</td>\n",
       "      <td>1.000</td>\n",
       "      <td>N</td>\n",
       "      <td>43</td>\n",
       "      <td>237</td>\n",
       "      <td>1</td>\n",
       "      <td>7.900</td>\n",
       "      <td>1.000</td>\n",
       "      <td>0.500</td>\n",
       "      <td>4.000</td>\n",
       "      <td>0.000</td>\n",
       "      <td>1.000</td>\n",
       "      <td>16.900</td>\n",
       "      <td>2.500</td>\n",
       "      <td>0.000</td>\n",
       "    </tr>\n",
       "    <tr>\n",
       "      <th>2</th>\n",
       "      <td>2</td>\n",
       "      <td>2023-01-01 00:25:04</td>\n",
       "      <td>2023-01-01 00:37:49</td>\n",
       "      <td>1.000</td>\n",
       "      <td>2.510</td>\n",
       "      <td>1.000</td>\n",
       "      <td>N</td>\n",
       "      <td>48</td>\n",
       "      <td>238</td>\n",
       "      <td>1</td>\n",
       "      <td>14.900</td>\n",
       "      <td>1.000</td>\n",
       "      <td>0.500</td>\n",
       "      <td>15.000</td>\n",
       "      <td>0.000</td>\n",
       "      <td>1.000</td>\n",
       "      <td>34.900</td>\n",
       "      <td>2.500</td>\n",
       "      <td>0.000</td>\n",
       "    </tr>\n",
       "    <tr>\n",
       "      <th>3</th>\n",
       "      <td>1</td>\n",
       "      <td>2023-01-01 00:03:48</td>\n",
       "      <td>2023-01-01 00:13:25</td>\n",
       "      <td>0.000</td>\n",
       "      <td>1.900</td>\n",
       "      <td>1.000</td>\n",
       "      <td>N</td>\n",
       "      <td>138</td>\n",
       "      <td>7</td>\n",
       "      <td>1</td>\n",
       "      <td>12.100</td>\n",
       "      <td>7.250</td>\n",
       "      <td>0.500</td>\n",
       "      <td>0.000</td>\n",
       "      <td>0.000</td>\n",
       "      <td>1.000</td>\n",
       "      <td>20.850</td>\n",
       "      <td>0.000</td>\n",
       "      <td>1.250</td>\n",
       "    </tr>\n",
       "    <tr>\n",
       "      <th>4</th>\n",
       "      <td>2</td>\n",
       "      <td>2023-01-01 00:10:29</td>\n",
       "      <td>2023-01-01 00:21:19</td>\n",
       "      <td>1.000</td>\n",
       "      <td>1.430</td>\n",
       "      <td>1.000</td>\n",
       "      <td>N</td>\n",
       "      <td>107</td>\n",
       "      <td>79</td>\n",
       "      <td>1</td>\n",
       "      <td>11.400</td>\n",
       "      <td>1.000</td>\n",
       "      <td>0.500</td>\n",
       "      <td>3.280</td>\n",
       "      <td>0.000</td>\n",
       "      <td>1.000</td>\n",
       "      <td>19.680</td>\n",
       "      <td>2.500</td>\n",
       "      <td>0.000</td>\n",
       "    </tr>\n",
       "  </tbody>\n",
       "</table>\n",
       "</div>"
      ],
      "text/plain": [
       "   VendorID tpep_pickup_datetime tpep_dropoff_datetime  passenger_count  \\\n",
       "0         2  2023-01-01 00:32:10   2023-01-01 00:40:36            1.000   \n",
       "1         2  2023-01-01 00:55:08   2023-01-01 01:01:27            1.000   \n",
       "2         2  2023-01-01 00:25:04   2023-01-01 00:37:49            1.000   \n",
       "3         1  2023-01-01 00:03:48   2023-01-01 00:13:25            0.000   \n",
       "4         2  2023-01-01 00:10:29   2023-01-01 00:21:19            1.000   \n",
       "\n",
       "   trip_distance  RatecodeID store_and_fwd_flag  PULocationID  DOLocationID  \\\n",
       "0          0.970       1.000                  N           161           141   \n",
       "1          1.100       1.000                  N            43           237   \n",
       "2          2.510       1.000                  N            48           238   \n",
       "3          1.900       1.000                  N           138             7   \n",
       "4          1.430       1.000                  N           107            79   \n",
       "\n",
       "   payment_type  fare_amount  extra  mta_tax  tip_amount  tolls_amount  \\\n",
       "0             2        9.300  1.000    0.500       0.000         0.000   \n",
       "1             1        7.900  1.000    0.500       4.000         0.000   \n",
       "2             1       14.900  1.000    0.500      15.000         0.000   \n",
       "3             1       12.100  7.250    0.500       0.000         0.000   \n",
       "4             1       11.400  1.000    0.500       3.280         0.000   \n",
       "\n",
       "   improvement_surcharge  total_amount  congestion_surcharge  airport_fee  \n",
       "0                  1.000        14.300                 2.500        0.000  \n",
       "1                  1.000        16.900                 2.500        0.000  \n",
       "2                  1.000        34.900                 2.500        0.000  \n",
       "3                  1.000        20.850                 0.000        1.250  \n",
       "4                  1.000        19.680                 2.500        0.000  "
      ]
     },
     "execution_count": 7,
     "metadata": {},
     "output_type": "execute_result"
    }
   ],
   "source": [
    "df.head()"
   ]
  },
  {
   "cell_type": "code",
   "execution_count": 8,
   "id": "9fe3f3b9",
   "metadata": {},
   "outputs": [
    {
     "name": "stdout",
     "output_type": "stream",
     "text": [
      "<class 'pandas.core.frame.DataFrame'>\n",
      "RangeIndex: 3066766 entries, 0 to 3066765\n",
      "Data columns (total 19 columns):\n",
      " #   Column                 Dtype         \n",
      "---  ------                 -----         \n",
      " 0   VendorID               int64         \n",
      " 1   tpep_pickup_datetime   datetime64[ns]\n",
      " 2   tpep_dropoff_datetime  datetime64[ns]\n",
      " 3   passenger_count        float64       \n",
      " 4   trip_distance          float64       \n",
      " 5   RatecodeID             float64       \n",
      " 6   store_and_fwd_flag     object        \n",
      " 7   PULocationID           int64         \n",
      " 8   DOLocationID           int64         \n",
      " 9   payment_type           int64         \n",
      " 10  fare_amount            float64       \n",
      " 11  extra                  float64       \n",
      " 12  mta_tax                float64       \n",
      " 13  tip_amount             float64       \n",
      " 14  tolls_amount           float64       \n",
      " 15  improvement_surcharge  float64       \n",
      " 16  total_amount           float64       \n",
      " 17  congestion_surcharge   float64       \n",
      " 18  airport_fee            float64       \n",
      "dtypes: datetime64[ns](2), float64(12), int64(4), object(1)\n",
      "memory usage: 444.6+ MB\n"
     ]
    }
   ],
   "source": [
    "df.info()"
   ]
  },
  {
   "cell_type": "code",
   "execution_count": 9,
   "id": "254c147b",
   "metadata": {},
   "outputs": [
    {
     "data": {
      "text/html": [
       "<div>\n",
       "<style scoped>\n",
       "    .dataframe tbody tr th:only-of-type {\n",
       "        vertical-align: middle;\n",
       "    }\n",
       "\n",
       "    .dataframe tbody tr th {\n",
       "        vertical-align: top;\n",
       "    }\n",
       "\n",
       "    .dataframe thead th {\n",
       "        text-align: right;\n",
       "    }\n",
       "</style>\n",
       "<table border=\"1\" class=\"dataframe\">\n",
       "  <thead>\n",
       "    <tr style=\"text-align: right;\">\n",
       "      <th></th>\n",
       "      <th>VendorID</th>\n",
       "      <th>passenger_count</th>\n",
       "      <th>trip_distance</th>\n",
       "      <th>RatecodeID</th>\n",
       "      <th>PULocationID</th>\n",
       "      <th>DOLocationID</th>\n",
       "      <th>payment_type</th>\n",
       "      <th>fare_amount</th>\n",
       "      <th>extra</th>\n",
       "      <th>mta_tax</th>\n",
       "      <th>tip_amount</th>\n",
       "      <th>tolls_amount</th>\n",
       "      <th>improvement_surcharge</th>\n",
       "      <th>total_amount</th>\n",
       "      <th>congestion_surcharge</th>\n",
       "      <th>airport_fee</th>\n",
       "    </tr>\n",
       "  </thead>\n",
       "  <tbody>\n",
       "    <tr>\n",
       "      <th>count</th>\n",
       "      <td>3066766.000</td>\n",
       "      <td>2995023.000</td>\n",
       "      <td>3066766.000</td>\n",
       "      <td>2995023.000</td>\n",
       "      <td>3066766.000</td>\n",
       "      <td>3066766.000</td>\n",
       "      <td>3066766.000</td>\n",
       "      <td>3066766.000</td>\n",
       "      <td>3066766.000</td>\n",
       "      <td>3066766.000</td>\n",
       "      <td>3066766.000</td>\n",
       "      <td>3066766.000</td>\n",
       "      <td>3066766.000</td>\n",
       "      <td>3066766.000</td>\n",
       "      <td>2995023.000</td>\n",
       "      <td>2995023.000</td>\n",
       "    </tr>\n",
       "    <tr>\n",
       "      <th>mean</th>\n",
       "      <td>1.730</td>\n",
       "      <td>1.363</td>\n",
       "      <td>3.847</td>\n",
       "      <td>1.497</td>\n",
       "      <td>166.398</td>\n",
       "      <td>164.393</td>\n",
       "      <td>1.194</td>\n",
       "      <td>18.367</td>\n",
       "      <td>1.538</td>\n",
       "      <td>0.488</td>\n",
       "      <td>3.368</td>\n",
       "      <td>0.518</td>\n",
       "      <td>0.982</td>\n",
       "      <td>27.020</td>\n",
       "      <td>2.274</td>\n",
       "      <td>0.107</td>\n",
       "    </tr>\n",
       "    <tr>\n",
       "      <th>std</th>\n",
       "      <td>0.444</td>\n",
       "      <td>0.896</td>\n",
       "      <td>249.584</td>\n",
       "      <td>6.475</td>\n",
       "      <td>64.244</td>\n",
       "      <td>69.944</td>\n",
       "      <td>0.529</td>\n",
       "      <td>17.808</td>\n",
       "      <td>1.790</td>\n",
       "      <td>0.103</td>\n",
       "      <td>3.827</td>\n",
       "      <td>2.018</td>\n",
       "      <td>0.183</td>\n",
       "      <td>22.164</td>\n",
       "      <td>0.772</td>\n",
       "      <td>0.356</td>\n",
       "    </tr>\n",
       "    <tr>\n",
       "      <th>min</th>\n",
       "      <td>1.000</td>\n",
       "      <td>0.000</td>\n",
       "      <td>0.000</td>\n",
       "      <td>1.000</td>\n",
       "      <td>1.000</td>\n",
       "      <td>1.000</td>\n",
       "      <td>0.000</td>\n",
       "      <td>-900.000</td>\n",
       "      <td>-7.500</td>\n",
       "      <td>-0.500</td>\n",
       "      <td>-96.220</td>\n",
       "      <td>-65.000</td>\n",
       "      <td>-1.000</td>\n",
       "      <td>-751.000</td>\n",
       "      <td>-2.500</td>\n",
       "      <td>-1.250</td>\n",
       "    </tr>\n",
       "    <tr>\n",
       "      <th>25%</th>\n",
       "      <td>1.000</td>\n",
       "      <td>1.000</td>\n",
       "      <td>1.060</td>\n",
       "      <td>1.000</td>\n",
       "      <td>132.000</td>\n",
       "      <td>114.000</td>\n",
       "      <td>1.000</td>\n",
       "      <td>8.600</td>\n",
       "      <td>0.000</td>\n",
       "      <td>0.500</td>\n",
       "      <td>1.000</td>\n",
       "      <td>0.000</td>\n",
       "      <td>1.000</td>\n",
       "      <td>15.400</td>\n",
       "      <td>2.500</td>\n",
       "      <td>0.000</td>\n",
       "    </tr>\n",
       "    <tr>\n",
       "      <th>50%</th>\n",
       "      <td>2.000</td>\n",
       "      <td>1.000</td>\n",
       "      <td>1.800</td>\n",
       "      <td>1.000</td>\n",
       "      <td>162.000</td>\n",
       "      <td>162.000</td>\n",
       "      <td>1.000</td>\n",
       "      <td>12.800</td>\n",
       "      <td>1.000</td>\n",
       "      <td>0.500</td>\n",
       "      <td>2.720</td>\n",
       "      <td>0.000</td>\n",
       "      <td>1.000</td>\n",
       "      <td>20.160</td>\n",
       "      <td>2.500</td>\n",
       "      <td>0.000</td>\n",
       "    </tr>\n",
       "    <tr>\n",
       "      <th>75%</th>\n",
       "      <td>2.000</td>\n",
       "      <td>1.000</td>\n",
       "      <td>3.330</td>\n",
       "      <td>1.000</td>\n",
       "      <td>234.000</td>\n",
       "      <td>234.000</td>\n",
       "      <td>1.000</td>\n",
       "      <td>20.500</td>\n",
       "      <td>2.500</td>\n",
       "      <td>0.500</td>\n",
       "      <td>4.200</td>\n",
       "      <td>0.000</td>\n",
       "      <td>1.000</td>\n",
       "      <td>28.700</td>\n",
       "      <td>2.500</td>\n",
       "      <td>0.000</td>\n",
       "    </tr>\n",
       "    <tr>\n",
       "      <th>max</th>\n",
       "      <td>2.000</td>\n",
       "      <td>9.000</td>\n",
       "      <td>258928.150</td>\n",
       "      <td>99.000</td>\n",
       "      <td>265.000</td>\n",
       "      <td>265.000</td>\n",
       "      <td>4.000</td>\n",
       "      <td>1160.100</td>\n",
       "      <td>12.500</td>\n",
       "      <td>53.160</td>\n",
       "      <td>380.800</td>\n",
       "      <td>196.990</td>\n",
       "      <td>1.000</td>\n",
       "      <td>1169.400</td>\n",
       "      <td>2.500</td>\n",
       "      <td>1.250</td>\n",
       "    </tr>\n",
       "  </tbody>\n",
       "</table>\n",
       "</div>"
      ],
      "text/plain": [
       "         VendorID  passenger_count  trip_distance  RatecodeID  PULocationID  \\\n",
       "count 3066766.000      2995023.000    3066766.000 2995023.000   3066766.000   \n",
       "mean        1.730            1.363          3.847       1.497       166.398   \n",
       "std         0.444            0.896        249.584       6.475        64.244   \n",
       "min         1.000            0.000          0.000       1.000         1.000   \n",
       "25%         1.000            1.000          1.060       1.000       132.000   \n",
       "50%         2.000            1.000          1.800       1.000       162.000   \n",
       "75%         2.000            1.000          3.330       1.000       234.000   \n",
       "max         2.000            9.000     258928.150      99.000       265.000   \n",
       "\n",
       "       DOLocationID  payment_type  fare_amount       extra     mta_tax  \\\n",
       "count   3066766.000   3066766.000  3066766.000 3066766.000 3066766.000   \n",
       "mean        164.393         1.194       18.367       1.538       0.488   \n",
       "std          69.944         0.529       17.808       1.790       0.103   \n",
       "min           1.000         0.000     -900.000      -7.500      -0.500   \n",
       "25%         114.000         1.000        8.600       0.000       0.500   \n",
       "50%         162.000         1.000       12.800       1.000       0.500   \n",
       "75%         234.000         1.000       20.500       2.500       0.500   \n",
       "max         265.000         4.000     1160.100      12.500      53.160   \n",
       "\n",
       "       tip_amount  tolls_amount  improvement_surcharge  total_amount  \\\n",
       "count 3066766.000   3066766.000            3066766.000   3066766.000   \n",
       "mean        3.368         0.518                  0.982        27.020   \n",
       "std         3.827         2.018                  0.183        22.164   \n",
       "min       -96.220       -65.000                 -1.000      -751.000   \n",
       "25%         1.000         0.000                  1.000        15.400   \n",
       "50%         2.720         0.000                  1.000        20.160   \n",
       "75%         4.200         0.000                  1.000        28.700   \n",
       "max       380.800       196.990                  1.000      1169.400   \n",
       "\n",
       "       congestion_surcharge  airport_fee  \n",
       "count           2995023.000  2995023.000  \n",
       "mean                  2.274        0.107  \n",
       "std                   0.772        0.356  \n",
       "min                  -2.500       -1.250  \n",
       "25%                   2.500        0.000  \n",
       "50%                   2.500        0.000  \n",
       "75%                   2.500        0.000  \n",
       "max                   2.500        1.250  "
      ]
     },
     "execution_count": 9,
     "metadata": {},
     "output_type": "execute_result"
    }
   ],
   "source": [
    "df.describe()"
   ]
  },
  {
   "cell_type": "code",
   "execution_count": 10,
   "id": "9045d4aa",
   "metadata": {},
   "outputs": [],
   "source": [
    "#df.duration.describe(percentiles=[0.1,0.90,0.95,0.98,0.99,0.999])"
   ]
  },
  {
   "cell_type": "code",
   "execution_count": 11,
   "id": "4de73bf4",
   "metadata": {},
   "outputs": [],
   "source": [
    "    df['duration'] = df.tpep_dropoff_datetime - df.tpep_pickup_datetime\n",
    "    df.duration = df.duration.apply(lambda td: td.total_seconds() / 60)"
   ]
  },
  {
   "cell_type": "code",
   "execution_count": 12,
   "id": "c3feead1",
   "metadata": {},
   "outputs": [
    {
     "data": {
      "text/plain": [
       "count   3066766.000\n",
       "mean         15.669\n",
       "std          42.594\n",
       "min         -29.200\n",
       "25%           7.117\n",
       "50%          11.517\n",
       "75%          18.300\n",
       "max       10029.183\n",
       "Name: duration, dtype: float64"
      ]
     },
     "execution_count": 12,
     "metadata": {},
     "output_type": "execute_result"
    }
   ],
   "source": [
    "df.duration.describe()"
   ]
  },
  {
   "cell_type": "code",
   "execution_count": 13,
   "id": "8d20ca1e",
   "metadata": {},
   "outputs": [
    {
     "data": {
      "text/plain": [
       "0.9812202822125979"
      ]
     },
     "execution_count": 13,
     "metadata": {},
     "output_type": "execute_result"
    }
   ],
   "source": [
    "((df.duration >= 1) & (df.duration <= 60)).mean()"
   ]
  },
  {
   "cell_type": "code",
   "execution_count": 14,
   "id": "50efe5e4",
   "metadata": {},
   "outputs": [],
   "source": [
    "numerical = ['trip_distance']\n",
    "categorical = ['PULocationID', 'DOLocationID']\n",
    "\n",
    "def process_data(url):\n",
    "    df = pd.read_parquet(url)\n",
    "\n",
    "    df['duration'] = df.tpep_dropoff_datetime - df.tpep_pickup_datetime\n",
    "    df.duration = df.duration.apply(lambda td: td.total_seconds() / 60)\n",
    "    \n",
    "    df = df[(df.duration >= 1) & (df.duration <= 60)]\n",
    "    df[categorical] = df[categorical].astype(str)\n",
    "    \n",
    "    return df"
   ]
  },
  {
   "cell_type": "code",
   "execution_count": 15,
   "id": "1e3c0739",
   "metadata": {},
   "outputs": [],
   "source": [
    "train_url = 'https://d37ci6vzurychx.cloudfront.net/trip-data/yellow_tripdata_2023-01.parquet'\n",
    "val_url = 'https://d37ci6vzurychx.cloudfront.net/trip-data/yellow_tripdata_2023-02.parquet'\n",
    "\n",
    "df_train = process_data(train_url)\n",
    "df_val = process_data(val_url)"
   ]
  },
  {
   "cell_type": "code",
   "execution_count": 16,
   "id": "11a87570",
   "metadata": {},
   "outputs": [
    {
     "data": {
      "text/plain": [
       "(3009173, 2855951)"
      ]
     },
     "execution_count": 16,
     "metadata": {},
     "output_type": "execute_result"
    }
   ],
   "source": [
    "len(df_train), len(df_val)"
   ]
  },
  {
   "cell_type": "code",
   "execution_count": 17,
   "id": "32068112",
   "metadata": {},
   "outputs": [],
   "source": [
    "train_dicts = df_train[categorical + numerical].to_dict(orient='records')\n",
    "val_dicts = df_val[categorical + numerical].to_dict(orient='records')\n",
    "\n",
    "X_train = FeatureHasher().fit_transform(train_dicts)\n",
    "X_val = FeatureHasher().fit_transform(val_dicts)\n",
    "\n",
    "target = 'duration'\n",
    "y_train = df_train[target].values\n",
    "y_val = df_val[target].values"
   ]
  },
  {
   "cell_type": "markdown",
   "id": "908b3610",
   "metadata": {},
   "source": [
    "### Modeling"
   ]
  },
  {
   "cell_type": "code",
   "execution_count": 18,
   "id": "96a3c01d",
   "metadata": {},
   "outputs": [],
   "source": [
    "def train_model(model):\n",
    "    model.fit(X_train, y_train)\n",
    "    y_pred = model.predict(X_train)\n",
    "    y_pred2 = model.predict(X_val)\n",
    "    \n",
    "    mse_train = mean_squared_error(y_train, y_pred, squared=False)\n",
    "    mse_val = mean_squared_error(y_val, y_pred2, squared=False)\n",
    "    \n",
    "    return mse_train, mse_val"
   ]
  },
  {
   "cell_type": "code",
   "execution_count": 19,
   "id": "4b6d27be",
   "metadata": {},
   "outputs": [],
   "source": [
    "def validate_model(model):\n",
    "    model.fit(X_train, y_train)\n",
    "    y_pred = model.predict(X_val)\n",
    "    \n",
    "    return mean_squared_error(y_val, y_pred, squared=False)"
   ]
  },
  {
   "cell_type": "code",
   "execution_count": 20,
   "id": "1ac761dd",
   "metadata": {},
   "outputs": [
    {
     "data": {
      "text/plain": [
       "((7.649134540204061, 7.811423798092246), 7.811423798092246)"
      ]
     },
     "execution_count": 20,
     "metadata": {},
     "output_type": "execute_result"
    }
   ],
   "source": [
    "lr = LinearRegression()\n",
    "train_model(lr), validate_model(lr)"
   ]
  },
  {
   "cell_type": "code",
   "execution_count": 21,
   "id": "c4256813",
   "metadata": {},
   "outputs": [
    {
     "data": {
      "text/plain": [
       "(9.938398578736242, 10.066734566474242)"
      ]
     },
     "execution_count": 21,
     "metadata": {},
     "output_type": "execute_result"
    }
   ],
   "source": [
    "lasso = Lasso()\n",
    "train_model(lasso)"
   ]
  },
  {
   "cell_type": "code",
   "execution_count": null,
   "id": "8204e1fd",
   "metadata": {},
   "outputs": [],
   "source": [
    "elastic = ElasticNet()\n",
    "train_model(elastic)"
   ]
  },
  {
   "cell_type": "code",
   "execution_count": null,
   "id": "225648df",
   "metadata": {},
   "outputs": [],
   "source": [
    "ridge = Ridge(alpha=1.0)\n",
    "train_model(ridge)"
   ]
  },
  {
   "cell_type": "code",
   "execution_count": null,
   "id": "791d5846",
   "metadata": {},
   "outputs": [],
   "source": [
    "import pickle"
   ]
  },
  {
   "cell_type": "code",
   "execution_count": null,
   "id": "dcd85e56",
   "metadata": {},
   "outputs": [],
   "source": [
    "with open('models/lin_reg.bin', 'wb') as f_out:\n",
    "    pickle.dump((lr), f_out)"
   ]
  },
  {
   "cell_type": "code",
   "execution_count": null,
   "id": "aa4518ba",
   "metadata": {},
   "outputs": [],
   "source": [
    "with mlflow.start_run():\n",
    "    mlflow.set_tag(\"engineer\", \"tobe\")\n",
    "    \n",
    "    mlflow.log_param(\"train-data-url\",\"https://d37ci6vzurychx.cloudfront.net/trip-data/yellow_tripdata_2023-01.parquet\")\n",
    "    mlflow.log_param(\"test-data-url\", \"https://d37ci6vzurychx.cloudfront.net/trip-data/yellow_tripdata_2023-02.parquet\")\n",
    "    \n",
    "    alpha = 0.01\n",
    "    mlflow.log_param(\"alpha\", alpha)\n",
    "    lasso = Lasso(alpha)\n",
    "    \n",
    "    lasso.fit(X_train, y_train)\n",
    "    y_pred = lasso.predict(X_train)\n",
    "    y_pred2 = lasso.predict(X_val)\n",
    "    \n",
    "    rmse_train = mean_squared_error(y_train, y_pred, squared=False)\n",
    "    rmse_val = mean_squared_error(y_val, y_pred2, squared=False)\n",
    "    \n",
    "    mlflow.log_metric(\"rmse-train\", rmse_train)\n",
    "    mlflow.log_metric(\"rmse-val\", rmse_val)\n",
    "    \n",
    "    "
   ]
  },
  {
   "cell_type": "code",
   "execution_count": null,
   "id": "37b7473a",
   "metadata": {},
   "outputs": [],
   "source": []
  }
 ],
 "metadata": {
  "kernelspec": {
   "display_name": "Python 3 (ipykernel)",
   "language": "python",
   "name": "python3"
  },
  "language_info": {
   "codemirror_mode": {
    "name": "ipython",
    "version": 3
   },
   "file_extension": ".py",
   "mimetype": "text/x-python",
   "name": "python",
   "nbconvert_exporter": "python",
   "pygments_lexer": "ipython3",
   "version": "3.9.12"
  }
 },
 "nbformat": 4,
 "nbformat_minor": 5
}
